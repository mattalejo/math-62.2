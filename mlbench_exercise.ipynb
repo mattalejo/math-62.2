{
  "nbformat": 4,
  "nbformat_minor": 0,
  "metadata": {
    "colab": {
      "provenance": [],
      "authorship_tag": "ABX9TyNmTrsBJm0aIzmpCfsumWti",
      "include_colab_link": true
    },
    "kernelspec": {
      "name": "ir",
      "display_name": "R"
    },
    "language_info": {
      "name": "R"
    }
  },
  "cells": [
    {
      "cell_type": "markdown",
      "metadata": {
        "id": "view-in-github",
        "colab_type": "text"
      },
      "source": [
        "<a href=\"https://colab.research.google.com/github/mattalejo/math-62.2/blob/main/mlbench_exercise.ipynb\" target=\"_parent\"><img src=\"https://colab.research.google.com/assets/colab-badge.svg\" alt=\"Open In Colab\"/></a>"
      ]
    },
    {
      "cell_type": "code",
      "execution_count": null,
      "metadata": {
        "id": "iBnlmXeRIwvj"
      },
      "outputs": [],
      "source": [
        "library(\"mlbench\")"
      ]
    },
    {
      "cell_type": "markdown",
      "source": [
        "We look into a built-in dataset in R and look into its documentation"
      ],
      "metadata": {
        "id": "24cNQ7_II2h0"
      }
    },
    {
      "cell_type": "code",
      "source": [
        "?BostonHousing"
      ],
      "metadata": {
        "id": "OhH52lkOI47Q"
      },
      "execution_count": null,
      "outputs": []
    }
  ]
}